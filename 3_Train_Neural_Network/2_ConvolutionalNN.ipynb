{
 "cells": [
  {
   "cell_type": "markdown",
   "metadata": {},
   "source": [
    "# Loading DATASET \n",
    "We will first load the dataset. MNIST Dataset is consisted from 70,000 handwritten numeric digital images in the size of 28x28. 60,000 of them are for training and 10,000 of them for test set. MNIST dataset is already in torchvision "
   ]
  },
  {
   "cell_type": "code",
   "execution_count": 4,
   "metadata": {},
   "outputs": [
    {
     "name": "stdout",
     "output_type": "stream",
     "text": [
      "<class 'torchvision.datasets.mnist.MNIST'>\n",
      "5\n"
     ]
    }
   ],
   "source": [
    "# Getting the required libraries for loading dataset\n",
    "import torch\n",
    "import torchvision\n",
    "import matplotlib.pyplot as plt\n",
    "import torch.nn as nn\n",
    "import torch.nn.functional as F\n",
    "import torchvision.transforms as transforms\n",
    "\n",
    "import torchvision.datasets as dataset\n",
    "\n",
    "mnist_trainset = dataset.MNIST(root='./data', train=True, download=True, transform=None)\n",
    "mnist_testset = dataset.MNIST(root='./data', train=False, download=True, transform=None)\n",
    "\n",
    "#Lets Play with this data\n",
    "len(mnist_trainset) #Length of training dataset\n",
    "len(mnist_testset) #Length of test dataset\n",
    "\n",
    "#Learn type of the data\n",
    "print(type(mnist_trainset)) #Shows that type of the data\n",
    "train_image_zero, train_target_zero = mnist_trainset[0] \n",
    "#train_image_zero.show() #Showing the image zero\n",
    "print(train_target_zero.item()) #Class of the iMAGE 0"
   ]
  },
  {
   "cell_type": "markdown",
   "metadata": {},
   "source": [
    "# Some of Images\n",
    "- We learned how to download our dataset and showed the first index. In the next step, let's visualize them by using matplotlibrary.  "
   ]
  },
  {
   "cell_type": "code",
   "execution_count": 5,
   "metadata": {},
   "outputs": [
    {
     "data": {
      "image/png": "[encoded data removed]",
      "text/plain": [
       "<Figure size 432x288 with 5 Axes>"
      ]
     },
     "metadata": {
      "needs_background": "light"
     },
     "output_type": "display_data"
    }
   ],
   "source": [
    "n = 5 #You should set here how many of them you want to visualize\n",
    "for i in range(5):\n",
    "    im = int(torch.randint(0,len(mnist_trainset),(1,1)).item())\n",
    "    sample_im, label_im = mnist_trainset[im]\n",
    "    ax = plt.subplot(1,n,i+1)\n",
    "    ax.set_title('Class {}'.format(label_im.item()))\n",
    "    ax.axis('off')\n",
    "    plt.imshow(sample_im)"
   ]
  },
  {
   "cell_type": "markdown",
   "metadata": {},
   "source": [
    "# Convolutional NN\n",
    "- Let's create a Convolutional NN to classify MNIST dataset. Due to the simplicity of exercise, in the first one I will not use autograd or neural network package."
   ]
  },
  {
   "cell_type": "code",
   "execution_count": null,
   "metadata": {},
   "outputs": [
    {
     "name": "stdout",
     "output_type": "stream",
     "text": [
      "60000\n",
      "CNN(\n",
      "  (layer1): Sequential(\n",
      "    (0): Conv2d(1, 32, kernel_size=(5, 5), stride=(1, 1), padding=(2, 2))\n",
      "    (1): ReLU()\n",
      "    (2): MaxPool2d(kernel_size=2, stride=2, padding=0, dilation=1, ceil_mode=False)\n",
      "  )\n",
      "  (drop_out): Dropout(p=0.5)\n",
      "  (fc1): Linear(in_features=6272, out_features=1000, bias=True)\n",
      "  (fc2): Linear(in_features=1000, out_features=10, bias=True)\n",
      ")\n"
     ]
    },
    {
     "name": "stderr",
     "output_type": "stream",
     "text": [
      "/Users/mertkeser/anaconda3/lib/python3.6/site-packages/ipykernel_launcher.py:53: UserWarning: Implicit dimension choice for log_softmax has been deprecated. Change the call to include dim=X as an argument.\n"
     ]
    },
    {
     "name": "stdout",
     "output_type": "stream",
     "text": [
      "Epoch [1/20], Step [10/30], Loss: 1.2623\n",
      "Epoch [1/20], Step [20/30], Loss: 0.5420\n",
      "Epoch [1/20], Step [30/30], Loss: 0.6030\n",
      "Train Set Accuracy in Epoch 1/20 is %84.80\n",
      "Test Set Accuracy in Epoch 1/20 is %85.97\n",
      "Epoch [2/20], Step [10/30], Loss: 0.3246\n",
      "Epoch [2/20], Step [20/30], Loss: 0.2995\n",
      "Epoch [2/20], Step [30/30], Loss: 0.2727\n",
      "Train Set Accuracy in Epoch 2/20 is %92.21\n",
      "Test Set Accuracy in Epoch 2/20 is %92.84\n",
      "Epoch [3/20], Step [10/30], Loss: 0.2526\n",
      "Epoch [3/20], Step [20/30], Loss: 0.2517\n",
      "Epoch [3/20], Step [30/30], Loss: 0.2316\n",
      "Train Set Accuracy in Epoch 3/20 is %93.64\n",
      "Test Set Accuracy in Epoch 3/20 is %93.90\n",
      "Epoch [4/20], Step [10/30], Loss: 0.1994\n",
      "Epoch [4/20], Step [20/30], Loss: 0.1974\n",
      "Epoch [4/20], Step [30/30], Loss: 0.1895\n",
      "Train Set Accuracy in Epoch 4/20 is %94.45\n",
      "Test Set Accuracy in Epoch 4/20 is %94.99\n",
      "Epoch [5/20], Step [10/30], Loss: 0.1979\n",
      "Epoch [5/20], Step [20/30], Loss: 0.1654\n",
      "Epoch [5/20], Step [30/30], Loss: 0.1443\n",
      "Train Set Accuracy in Epoch 5/20 is %95.10\n",
      "Test Set Accuracy in Epoch 5/20 is %95.44\n",
      "Epoch [6/20], Step [10/30], Loss: 0.1698\n",
      "Epoch [6/20], Step [20/30], Loss: 0.1856\n",
      "Epoch [6/20], Step [30/30], Loss: 0.1612\n",
      "Train Set Accuracy in Epoch 6/20 is %95.59\n",
      "Test Set Accuracy in Epoch 6/20 is %95.75\n",
      "Epoch [7/20], Step [10/30], Loss: 0.1497\n",
      "Epoch [7/20], Step [20/30], Loss: 0.1487\n",
      "Epoch [7/20], Step [30/30], Loss: 0.1486\n",
      "Train Set Accuracy in Epoch 7/20 is %95.93\n",
      "Test Set Accuracy in Epoch 7/20 is %96.06\n",
      "Epoch [8/20], Step [10/30], Loss: 0.1541\n",
      "Epoch [8/20], Step [20/30], Loss: 0.1152\n",
      "Epoch [8/20], Step [30/30], Loss: 0.1476\n",
      "Train Set Accuracy in Epoch 8/20 is %96.30\n",
      "Test Set Accuracy in Epoch 8/20 is %96.23\n",
      "Epoch [9/20], Step [10/30], Loss: 0.1394\n",
      "Epoch [9/20], Step [20/30], Loss: 0.1043\n",
      "Epoch [9/20], Step [30/30], Loss: 0.1230\n",
      "Train Set Accuracy in Epoch 9/20 is %96.41\n",
      "Test Set Accuracy in Epoch 9/20 is %96.47\n",
      "Epoch [10/20], Step [10/30], Loss: 0.1225\n",
      "Epoch [10/20], Step [20/30], Loss: 0.1315\n",
      "Epoch [10/20], Step [30/30], Loss: 0.0980\n",
      "Train Set Accuracy in Epoch 10/20 is %96.65\n",
      "Test Set Accuracy in Epoch 10/20 is %96.72\n",
      "Epoch [11/20], Step [10/30], Loss: 0.1328\n",
      "Epoch [11/20], Step [20/30], Loss: 0.1224\n",
      "Epoch [11/20], Step [30/30], Loss: 0.1078\n",
      "Train Set Accuracy in Epoch 11/20 is %96.76\n",
      "Test Set Accuracy in Epoch 11/20 is %96.86\n",
      "Epoch [12/20], Step [10/30], Loss: 0.1036\n",
      "Epoch [12/20], Step [20/30], Loss: 0.1188\n",
      "Epoch [12/20], Step [30/30], Loss: 0.1038\n",
      "Train Set Accuracy in Epoch 12/20 is %96.91\n",
      "Test Set Accuracy in Epoch 12/20 is %96.93\n",
      "Epoch [13/20], Step [10/30], Loss: 0.1056\n",
      "Epoch [13/20], Step [20/30], Loss: 0.0880\n",
      "Epoch [13/20], Step [30/30], Loss: 0.1018\n",
      "Train Set Accuracy in Epoch 13/20 is %97.08\n",
      "Test Set Accuracy in Epoch 13/20 is %97.09\n",
      "Epoch [14/20], Step [10/30], Loss: 0.0918\n",
      "Epoch [14/20], Step [20/30], Loss: 0.0827\n",
      "Epoch [14/20], Step [30/30], Loss: 0.0886\n",
      "Train Set Accuracy in Epoch 14/20 is %97.14\n",
      "Test Set Accuracy in Epoch 14/20 is %97.33\n",
      "Epoch [15/20], Step [10/30], Loss: 0.0840\n",
      "Epoch [15/20], Step [20/30], Loss: 0.0936\n",
      "Epoch [15/20], Step [30/30], Loss: 0.0981\n",
      "Train Set Accuracy in Epoch 15/20 is %97.24\n",
      "Test Set Accuracy in Epoch 15/20 is %97.24\n",
      "Epoch [16/20], Step [10/30], Loss: 0.0912\n",
      "Epoch [16/20], Step [20/30], Loss: 0.0999\n",
      "Epoch [16/20], Step [30/30], Loss: 0.0836\n",
      "Train Set Accuracy in Epoch 16/20 is %97.37\n",
      "Test Set Accuracy in Epoch 16/20 is %97.43\n",
      "Epoch [17/20], Step [10/30], Loss: 0.0855\n",
      "Epoch [17/20], Step [20/30], Loss: 0.0903\n",
      "Epoch [17/20], Step [30/30], Loss: 0.0877\n",
      "Train Set Accuracy in Epoch 17/20 is %97.33\n",
      "Test Set Accuracy in Epoch 17/20 is %97.39\n",
      "Epoch [18/20], Step [10/30], Loss: 0.0807\n",
      "Epoch [18/20], Step [20/30], Loss: 0.0873\n"
     ]
    }
   ],
   "source": [
    "# Define Parameters\n",
    "epochs = 20 #Time of the epoch\n",
    "batch_size = 2000 \n",
    "learning_rate = 0.1\n",
    "\n",
    "# Let's load the Data again as Tensor\n",
    "trans = transforms.Compose([transforms.ToTensor(), transforms.Normalize((0.1307,), (0.3081,))])\n",
    "\n",
    "train_dataset = torchvision.datasets.MNIST(root='../../data', \n",
    "                                           train=True, \n",
    "                                           transform=trans,\n",
    "                                           download=True)\n",
    "\n",
    "test_dataset = torchvision.datasets.MNIST(root='../../data', \n",
    "                                          train=False, \n",
    "                                          transform=trans)\n",
    "\n",
    "# transforms to apply to the data\n",
    "\n",
    "# Data loader (input pipeline)\n",
    "train_loader = torch.utils.data.DataLoader(dataset=train_dataset, \n",
    "                                           batch_size=batch_size, \n",
    "                                           shuffle=True)\n",
    "\n",
    "test_loader = torch.utils.data.DataLoader(dataset=test_dataset,\n",
    "                                          batch_size=len(test_dataset))\n",
    "\n",
    "train_loader_whole = torch.utils.data.DataLoader(dataset=train_dataset, \n",
    "                                                 batch_size=len(train_dataset), \n",
    "                                                 shuffle=True)\n",
    "\n",
    "# We already know that each image is in the same size\n",
    "print(len(mnist_trainset))\n",
    "\n",
    "class CNN(nn.Module):\n",
    "    def __init__(self):\n",
    "        super(CNN, self).__init__()\n",
    "        self.layer1 = nn.Sequential(\n",
    "            nn.Conv2d(1, 32, kernel_size=5, stride=1, padding=2),\n",
    "            nn.ReLU(),\n",
    "            nn.MaxPool2d(kernel_size=2, stride=2))\n",
    "\n",
    "        self.drop_out = nn.Dropout()\n",
    "        self.fc1 = nn.Linear(14 * 14 * 32, 1000)\n",
    "        self.fc2 = nn.Linear(1000, 10)\n",
    "    \n",
    "    def forward(self, x):\n",
    "        out = self.layer1(x)\n",
    "        out = out.reshape(out.size(0), -1)\n",
    "        out = self.drop_out(out)\n",
    "        out = self.fc1(out)\n",
    "        out = self.fc2(out)\n",
    "        return F.log_softmax(out)\n",
    "    \n",
    "#Lets see the instance of this class\n",
    "net = CNN()\n",
    "print(net)\n",
    "\n",
    "# Loss and optimizer\n",
    "criterion = nn.CrossEntropyLoss()\n",
    "optimizer = torch.optim.SGD(net.parameters(), lr=learning_rate)\n",
    "\n",
    "# Start the learning\n",
    "# Forward-Pass\n",
    "# run the main training loop\n",
    "for epoch in range(epochs):\n",
    "    TrueTrain = 0; TrueTest = 0\n",
    "    for batch_idx, (data, target) in enumerate(train_loader):\n",
    "        #data = data.reshape(-1, 28*28)\n",
    "        # Forward pass\n",
    "        outputs = net(data)\n",
    "        loss = criterion(outputs, target)\n",
    "        \n",
    "        # Backward and optimize\n",
    "        optimizer.zero_grad()\n",
    "        loss.backward()\n",
    "        optimizer.step()\n",
    "        \n",
    "        if (batch_idx+1) % 10 == 0:\n",
    "            print ('Epoch [{}/{}], Step [{}/{:.0f}], Loss: {:.4f}' \n",
    "                   .format(epoch+1, epochs, batch_idx+1, len(train_dataset)/batch_size, loss.item()))\n",
    "            \n",
    "    for _, (data, target) in enumerate(train_loader_whole): \n",
    "        outputs = net(data)\n",
    "        max_index = outputs.max(dim = 1)[1]\n",
    "        TrueTrain += (max_index == target).sum()\n",
    "\n",
    "    for _, (data, target) in enumerate(test_loader): \n",
    "        outputs = net(data)\n",
    "        max_index = outputs.max(dim = 1)[1]\n",
    "        TrueTest += (max_index == target).sum()\n",
    "    \n",
    "    print( \"Train Set Accuracy in Epoch {}/{} is %{:.2f}\".format( epoch+1, epochs, TrueTrain.item()/len(mnist_trainset) * 100 ) )\n",
    "    print( \"Test Set Accuracy in Epoch {}/{} is %{:.2f}\".format( epoch+1, epochs, TrueTest.item()/len(mnist_testset) * 100 ) )"
   ]
  },
  {
   "cell_type": "code",
   "execution_count": null,
   "metadata": {},
   "outputs": [],
   "source": []
  }
 ],
 "metadata": {
  "kernelspec": {
   "display_name": "Python 3",
   "language": "python",
   "name": "python3"
  },
  "language_info": {
   "codemirror_mode": {
    "name": "ipython",
    "version": 3
   },
   "file_extension": ".py",
   "mimetype": "text/x-python",
   "name": "python",
   "nbconvert_exporter": "python",
   "pygments_lexer": "ipython3",
   "version": "3.6.6"
  }
 },
 "nbformat": 4,
 "nbformat_minor": 2
}

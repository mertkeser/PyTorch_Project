{
 "cells": [
  {
   "cell_type": "markdown",
   "metadata": {},
   "source": [
    "# Loading DATASET \n",
    "We will first load the dataset. MNIST Dataset is consisted from 70,000 handwritten numeric digital images in the size of 28x28. 60,000 of them are for training and 10,000 of them for test set. MNIST dataset is already in torchvision "
   ]
  },
  {
   "cell_type": "code",
   "execution_count": 2,
   "metadata": {},
   "outputs": [
    {
     "name": "stdout",
     "output_type": "stream",
     "text": [
      "<class 'torchvision.datasets.mnist.MNIST'>\n",
      "5\n"
     ]
    }
   ],
   "source": [
    "# Getting the required libraries for loading dataset\n",
    "import torch\n",
    "import torchvision\n",
    "import matplotlib.pyplot as plt\n",
    "import torch.nn as nn\n",
    "import torch.nn.functional as F\n",
    "import torchvision.transforms as transforms\n",
    "\n",
    "import torchvision.datasets as dataset\n",
    "\n",
    "mnist_trainset = dataset.MNIST(root='./data', train=True, download=True, transform=None)\n",
    "mnist_testset = dataset.MNIST(root='./data', train=False, download=True, transform=None)\n",
    "\n",
    "#Lets Play with this data\n",
    "len(mnist_trainset) #Length of training dataset\n",
    "len(mnist_testset) #Length of test dataset\n",
    "\n",
    "#Learn type of the data\n",
    "print(type(mnist_trainset)) #Shows that type of the data\n",
    "train_image_zero, train_target_zero = mnist_trainset[0] \n",
    "#train_image_zero.show() #Showing the image zero\n",
    "print(train_target_zero.item()) #Class of the iMAGE 0"
   ]
  },
  {
   "cell_type": "markdown",
   "metadata": {},
   "source": [
    "# Some of Images\n",
    "- We learned how to download our dataset and showed the first index. In the next step, let's visualize them by using matplotlibrary.  "
   ]
  },
  {
   "cell_type": "code",
   "execution_count": 3,
   "metadata": {},
   "outputs": [
    {
     "data": {
      "image/png": "[encoded data removed]",
      "text/plain": [
       "<Figure size 432x288 with 5 Axes>"
      ]
     },
     "metadata": {
      "needs_background": "light"
     },
     "output_type": "display_data"
    }
   ],
   "source": [
    "n = 5 #You should set here how many of them you want to visualize\n",
    "for i in range(5):\n",
    "    im = int(torch.randint(0,len(mnist_trainset),(1,1)).item())\n",
    "    sample_im, label_im = mnist_trainset[im]\n",
    "    ax = plt.subplot(1,n,i+1)\n",
    "    ax.set_title('Class {}'.format(label_im.item()))\n",
    "    ax.axis('off')\n",
    "    plt.imshow(sample_im)"
   ]
  },
  {
   "cell_type": "markdown",
   "metadata": {},
   "source": [
    "# Simple Sequential NN\n",
    "- Let's create a simple sequantial NN to classify MNIST dataset. Due to the simplicity of exercise, in the first one I will not use autograd or neural network package."
   ]
  },
  {
   "cell_type": "code",
   "execution_count": 8,
   "metadata": {},
   "outputs": [
    {
     "name": "stdout",
     "output_type": "stream",
     "text": [
      "60000\n",
      "SNN(\n",
      "  (fc1): Linear(in_features=784, out_features=200, bias=True)\n",
      "  (fc2): Linear(in_features=200, out_features=10, bias=True)\n",
      ")\n"
     ]
    },
    {
     "name": "stderr",
     "output_type": "stream",
     "text": [
      "/Users/mertkeser/anaconda3/lib/python3.6/site-packages/ipykernel_launcher.py:40: UserWarning: Implicit dimension choice for log_softmax has been deprecated. Change the call to include dim=X as an argument.\n"
     ]
    },
    {
     "name": "stdout",
     "output_type": "stream",
     "text": [
      "Epoch [1/20], Step [10/30], Loss: 1.5550\n",
      "Epoch [1/20], Step [20/30], Loss: 0.5614\n",
      "Epoch [1/20], Step [30/30], Loss: 0.4384\n",
      "Train Set Accuracy in Epoch 1/20 is %87.34\n",
      "Test Set Accuracy in Epoch 1/20 is %87.90\n",
      "Epoch [2/20], Step [10/30], Loss: 0.3673\n",
      "Epoch [2/20], Step [20/30], Loss: 0.3882\n",
      "Epoch [2/20], Step [30/30], Loss: 0.3518\n",
      "Train Set Accuracy in Epoch 2/20 is %90.54\n",
      "Test Set Accuracy in Epoch 2/20 is %91.18\n",
      "Epoch [3/20], Step [10/30], Loss: 0.2900\n",
      "Epoch [3/20], Step [20/30], Loss: 0.3078\n",
      "Epoch [3/20], Step [30/30], Loss: 0.3214\n",
      "Train Set Accuracy in Epoch 3/20 is %91.86\n",
      "Test Set Accuracy in Epoch 3/20 is %92.30\n",
      "Epoch [4/20], Step [10/30], Loss: 0.2712\n",
      "Epoch [4/20], Step [20/30], Loss: 0.2375\n",
      "Epoch [4/20], Step [30/30], Loss: 0.2690\n",
      "Train Set Accuracy in Epoch 4/20 is %92.74\n",
      "Test Set Accuracy in Epoch 4/20 is %92.84\n",
      "Epoch [5/20], Step [10/30], Loss: 0.2192\n",
      "Epoch [5/20], Step [20/30], Loss: 0.2200\n",
      "Epoch [5/20], Step [30/30], Loss: 0.2309\n",
      "Train Set Accuracy in Epoch 5/20 is %93.55\n",
      "Test Set Accuracy in Epoch 5/20 is %93.64\n",
      "Epoch [6/20], Step [10/30], Loss: 0.2254\n",
      "Epoch [6/20], Step [20/30], Loss: 0.2250\n",
      "Epoch [6/20], Step [30/30], Loss: 0.2358\n",
      "Train Set Accuracy in Epoch 6/20 is %94.01\n",
      "Test Set Accuracy in Epoch 6/20 is %93.99\n",
      "Epoch [7/20], Step [10/30], Loss: 0.2170\n",
      "Epoch [7/20], Step [20/30], Loss: 0.2118\n",
      "Epoch [7/20], Step [30/30], Loss: 0.1835\n",
      "Train Set Accuracy in Epoch 7/20 is %94.63\n",
      "Test Set Accuracy in Epoch 7/20 is %94.39\n",
      "Epoch [8/20], Step [10/30], Loss: 0.1941\n",
      "Epoch [8/20], Step [20/30], Loss: 0.1752\n",
      "Epoch [8/20], Step [30/30], Loss: 0.1908\n",
      "Train Set Accuracy in Epoch 8/20 is %95.06\n",
      "Test Set Accuracy in Epoch 8/20 is %94.96\n",
      "Epoch [9/20], Step [10/30], Loss: 0.1432\n",
      "Epoch [9/20], Step [20/30], Loss: 0.1498\n",
      "Epoch [9/20], Step [30/30], Loss: 0.1703\n",
      "Train Set Accuracy in Epoch 9/20 is %95.48\n",
      "Test Set Accuracy in Epoch 9/20 is %95.18\n",
      "Epoch [10/20], Step [10/30], Loss: 0.1181\n",
      "Epoch [10/20], Step [20/30], Loss: 0.1552\n",
      "Epoch [10/20], Step [30/30], Loss: 0.1616\n",
      "Train Set Accuracy in Epoch 10/20 is %95.79\n",
      "Test Set Accuracy in Epoch 10/20 is %95.61\n",
      "Epoch [11/20], Step [10/30], Loss: 0.1398\n",
      "Epoch [11/20], Step [20/30], Loss: 0.1459\n",
      "Epoch [11/20], Step [30/30], Loss: 0.1334\n",
      "Train Set Accuracy in Epoch 11/20 is %96.12\n",
      "Test Set Accuracy in Epoch 11/20 is %95.77\n",
      "Epoch [12/20], Step [10/30], Loss: 0.1613\n",
      "Epoch [12/20], Step [20/30], Loss: 0.1386\n",
      "Epoch [12/20], Step [30/30], Loss: 0.1406\n",
      "Train Set Accuracy in Epoch 12/20 is %96.39\n",
      "Test Set Accuracy in Epoch 12/20 is %96.10\n",
      "Epoch [13/20], Step [10/30], Loss: 0.1256\n",
      "Epoch [13/20], Step [20/30], Loss: 0.1420\n",
      "Epoch [13/20], Step [30/30], Loss: 0.1283\n",
      "Train Set Accuracy in Epoch 13/20 is %96.64\n",
      "Test Set Accuracy in Epoch 13/20 is %96.30\n",
      "Epoch [14/20], Step [10/30], Loss: 0.1196\n",
      "Epoch [14/20], Step [20/30], Loss: 0.1264\n",
      "Epoch [14/20], Step [30/30], Loss: 0.1297\n",
      "Train Set Accuracy in Epoch 14/20 is %96.82\n",
      "Test Set Accuracy in Epoch 14/20 is %96.47\n",
      "Epoch [15/20], Step [10/30], Loss: 0.1059\n",
      "Epoch [15/20], Step [20/30], Loss: 0.1115\n",
      "Epoch [15/20], Step [30/30], Loss: 0.1220\n",
      "Train Set Accuracy in Epoch 15/20 is %97.00\n",
      "Test Set Accuracy in Epoch 15/20 is %96.65\n",
      "Epoch [16/20], Step [10/30], Loss: 0.1158\n",
      "Epoch [16/20], Step [20/30], Loss: 0.1007\n",
      "Epoch [16/20], Step [30/30], Loss: 0.1139\n",
      "Train Set Accuracy in Epoch 16/20 is %97.12\n",
      "Test Set Accuracy in Epoch 16/20 is %96.65\n",
      "Epoch [17/20], Step [10/30], Loss: 0.1025\n",
      "Epoch [17/20], Step [20/30], Loss: 0.0962\n",
      "Epoch [17/20], Step [30/30], Loss: 0.1044\n",
      "Train Set Accuracy in Epoch 17/20 is %97.30\n",
      "Test Set Accuracy in Epoch 17/20 is %96.81\n",
      "Epoch [18/20], Step [10/30], Loss: 0.1020\n",
      "Epoch [18/20], Step [20/30], Loss: 0.0894\n",
      "Epoch [18/20], Step [30/30], Loss: 0.1030\n",
      "Train Set Accuracy in Epoch 18/20 is %97.52\n",
      "Test Set Accuracy in Epoch 18/20 is %96.97\n",
      "Epoch [19/20], Step [10/30], Loss: 0.0905\n",
      "Epoch [19/20], Step [20/30], Loss: 0.0879\n",
      "Epoch [19/20], Step [30/30], Loss: 0.1165\n",
      "Train Set Accuracy in Epoch 19/20 is %97.57\n",
      "Test Set Accuracy in Epoch 19/20 is %97.03\n",
      "Epoch [20/20], Step [10/30], Loss: 0.1030\n",
      "Epoch [20/20], Step [20/30], Loss: 0.0928\n",
      "Epoch [20/20], Step [30/30], Loss: 0.0810\n",
      "Train Set Accuracy in Epoch 20/20 is %97.75\n",
      "Test Set Accuracy in Epoch 20/20 is %97.09\n"
     ]
    }
   ],
   "source": [
    "# Define Parameters\n",
    "epochs = 20 #Time of the epoch\n",
    "batch_size = 2000 \n",
    "learning_rate = 0.1\n",
    "\n",
    "# Let's load the Data again as Tensor\n",
    "train_dataset = torchvision.datasets.MNIST(root='../../data', \n",
    "                                           train=True, \n",
    "                                           transform=transforms.ToTensor(),\n",
    "                                           download=True)\n",
    "\n",
    "test_dataset = torchvision.datasets.MNIST(root='../../data', \n",
    "                                          train=False, \n",
    "                                          transform=transforms.ToTensor())\n",
    "\n",
    "# Data loader (input pipeline)\n",
    "train_loader = torch.utils.data.DataLoader(dataset=train_dataset, \n",
    "                                           batch_size=batch_size, \n",
    "                                           shuffle=True)\n",
    "\n",
    "test_loader = torch.utils.data.DataLoader(dataset=test_dataset,\n",
    "                                          batch_size=len(test_dataset))\n",
    "\n",
    "train_loader_whole = torch.utils.data.DataLoader(dataset=train_dataset, \n",
    "                                                 batch_size=len(train_dataset), \n",
    "                                                 shuffle=True)\n",
    "\n",
    "# We already know that each image is in the same size\n",
    "print(len(mnist_trainset))\n",
    "\n",
    "class SNN(nn.Module):\n",
    "    def __init__(self):\n",
    "        super(SNN, self).__init__() #Creates an instance based on nn.Module Class\n",
    "        self.fc1 = nn.Linear(28*28, 200) #First layer of Neural Network\n",
    "        self.fc2 = nn.Linear(200, 10)#Second Layer of Neural Network\n",
    "    \n",
    "    def forward(self, x):\n",
    "        x = F.relu(self.fc1(x))\n",
    "        x = self.fc2(x)\n",
    "        return F.log_softmax(x)\n",
    "    \n",
    "#Lets see the instance of this class\n",
    "net = SNN()\n",
    "print(net)\n",
    "\n",
    "#Stochastic Optimizer Network\n",
    "optimizer = torch.optim.SGD(net.parameters(), lr=learning_rate, momentum=0.9)\n",
    "# create a loss function\n",
    "criterion = nn.CrossEntropyLoss()\n",
    "\n",
    "# Start the learning\n",
    "# Forward-Pass\n",
    "# run the main training loop\n",
    "for epoch in range(epochs):\n",
    "    TrueTrain = 0; TrueTest = 0\n",
    "    for batch_idx, (data, target) in enumerate(train_loader):\n",
    "        data = data.reshape(-1, 28*28)\n",
    "        # Forward pass\n",
    "        outputs = net(data)\n",
    "        loss = criterion(outputs, target)\n",
    "        \n",
    "        # Backward and optimize\n",
    "        optimizer.zero_grad()\n",
    "        loss.backward()\n",
    "        optimizer.step()\n",
    "        \n",
    "        if (batch_idx+1) % 10 == 0:\n",
    "            print ('Epoch [{}/{}], Step [{}/{:.0f}], Loss: {:.4f}' \n",
    "                   .format(epoch+1, epochs, batch_idx+1, len(train_dataset)/batch_size, loss.item()))\n",
    "            \n",
    "    for _, (data, target) in enumerate(train_loader_whole): \n",
    "        data = data.reshape(-1, 28*28)\n",
    "        outputs = net(data)\n",
    "        max_index = outputs.max(dim = 1)[1]\n",
    "        TrueTrain += (max_index == target).sum()\n",
    "\n",
    "    for _, (data, target) in enumerate(test_loader): \n",
    "        data = data.reshape(-1, 28*28)\n",
    "        outputs = net(data)\n",
    "        max_index = outputs.max(dim = 1)[1]\n",
    "        TrueTest += (max_index == target).sum()\n",
    "    \n",
    "    print( \"Train Set Accuracy in Epoch {}/{} is %{:.2f}\".format( epoch+1, epochs, TrueTrain.item()/len(mnist_trainset) * 100 ) )\n",
    "    print( \"Test Set Accuracy in Epoch {}/{} is %{:.2f}\".format( epoch+1, epochs, TrueTest.item()/len(mnist_testset) * 100 ) )\n"
   ]
  },
  {
   "cell_type": "code",
   "execution_count": null,
   "metadata": {},
   "outputs": [],
   "source": []
  },
  {
   "cell_type": "code",
   "execution_count": null,
   "metadata": {},
   "outputs": [],
   "source": []
  },
  {
   "cell_type": "code",
   "execution_count": null,
   "metadata": {},
   "outputs": [],
   "source": []
  }
 ],
 "metadata": {
  "kernelspec": {
   "display_name": "Python 3",
   "language": "python",
   "name": "python3"
  },
  "language_info": {
   "codemirror_mode": {
    "name": "ipython",
    "version": 3
   },
   "file_extension": ".py",
   "mimetype": "text/x-python",
   "name": "python",
   "nbconvert_exporter": "python",
   "pygments_lexer": "ipython3",
   "version": "3.6.6"
  }
 },
 "nbformat": 4,
 "nbformat_minor": 2
}

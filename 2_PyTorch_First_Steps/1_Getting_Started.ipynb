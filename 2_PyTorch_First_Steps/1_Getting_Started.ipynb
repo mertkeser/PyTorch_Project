{
 "cells": [
  {
   "cell_type": "markdown",
   "metadata": {},
   "source": [
    "# WHAT IS PYTORCH?\n",
    "It’s a Python-based scientific computing package targeted at two sets of audiences:\n",
    "\n",
    "- A replacement for NumPy to use the power of GPUs\n",
    "- A deep learning research platform that provides maximum flexibility and speed"
   ]
  },
  {
   "cell_type": "markdown",
   "metadata": {},
   "source": [
    "## Getting Started\n",
    "\n",
    "Tensors are similar to NumPy’s ndarrays, with the addition being that Tensors can also be used on a GPU to accelerate computing."
   ]
  },
  {
   "cell_type": "code",
   "execution_count": 1,
   "metadata": {},
   "outputs": [
    {
     "name": "stdout",
     "output_type": "stream",
     "text": [
      "tensor([[          0.0000, -8589934592.0000,           0.0000],\n",
      "        [-8589934592.0000,           0.0000,          -0.0000],\n",
      "        [          0.0000,           0.0000,           0.0000],\n",
      "        [          0.0000,           0.0000,           0.0000],\n",
      "        [          0.0000,           0.0000,           0.0000]])\n"
     ]
    }
   ],
   "source": [
    "#from __future__ import print_function\n",
    "import torch\n",
    "\n",
    "#Construct a 5x3 matrix uninitialized:\n",
    "x = torch.empty(5, 3)\n",
    "print(x)"
   ]
  },
  {
   "cell_type": "markdown",
   "metadata": {},
   "source": [
    "Lets create a matrix with random numbers"
   ]
  },
  {
   "cell_type": "code",
   "execution_count": 2,
   "metadata": {},
   "outputs": [
    {
     "name": "stdout",
     "output_type": "stream",
     "text": [
      "tensor([[0.0677, 0.6982, 0.1482],\n",
      "        [0.2281, 0.2053, 0.8609],\n",
      "        [0.9460, 0.2765, 0.2644],\n",
      "        [0.3895, 0.4104, 0.3607],\n",
      "        [0.2516, 0.8884, 0.7475]])\n"
     ]
    }
   ],
   "source": [
    "x = torch.rand(5, 3)\n",
    "print(x)"
   ]
  },
  {
   "cell_type": "markdown",
   "metadata": {},
   "source": [
    "- Difference between uninitialized and initialized is that, in uninitialized the tensor is allocated in memory. Whatever in this memory is returned. In initialized, it allocates in new memory and fill it with randomly generated numbers between 0 and 1."
   ]
  },
  {
   "cell_type": "markdown",
   "metadata": {},
   "source": [
    "Construct a matrix filled zeros and of dtype long:"
   ]
  },
  {
   "cell_type": "code",
   "execution_count": 3,
   "metadata": {},
   "outputs": [
    {
     "name": "stdout",
     "output_type": "stream",
     "text": [
      "tensor([[0, 0, 0],\n",
      "        [0, 0, 0],\n",
      "        [0, 0, 0],\n",
      "        [0, 0, 0],\n",
      "        [0, 0, 0]])\n"
     ]
    }
   ],
   "source": [
    "x = torch.zeros(5,3, dtype = torch.long)\n",
    "print(x)"
   ]
  },
  {
   "cell_type": "markdown",
   "metadata": {},
   "source": [
    "- Long is an another version of 64 bit integer. You can use torch.long or torch.int64"
   ]
  },
  {
   "cell_type": "code",
   "execution_count": 4,
   "metadata": {},
   "outputs": [
    {
     "name": "stdout",
     "output_type": "stream",
     "text": [
      "tensor([5.5000, 3.0000])\n"
     ]
    }
   ],
   "source": [
    "# Constructing a tensor from Data\n",
    "x = torch.tensor([5.5, 3])\n",
    "print(x)"
   ]
  },
  {
   "cell_type": "markdown",
   "metadata": {},
   "source": [
    "Creation a tensor from existed ones:"
   ]
  },
  {
   "cell_type": "code",
   "execution_count": 5,
   "metadata": {},
   "outputs": [
    {
     "name": "stdout",
     "output_type": "stream",
     "text": [
      "tensor([[1., 1., 1.],\n",
      "        [1., 1., 1.],\n",
      "        [1., 1., 1.],\n",
      "        [1., 1., 1.],\n",
      "        [1., 1., 1.]], dtype=torch.float64)\n",
      "tensor([[ 1.1592,  1.9643,  1.1341],\n",
      "        [-0.8683, -2.1385,  0.6737],\n",
      "        [-0.0339, -0.4883,  1.4657],\n",
      "        [-0.6522, -3.0376,  1.3596],\n",
      "        [-1.3594, -1.0410, -0.3571]])\n"
     ]
    }
   ],
   "source": [
    "x = x.new_ones(5,3, dtype=torch.double)      # new_* methods take in sizes\n",
    "print(x)\n",
    "\n",
    "x = torch.randn_like(x, dtype=torch.float)    # override dtype!\n",
    "print(x)                                      # result has the same size"
   ]
  },
  {
   "cell_type": "markdown",
   "metadata": {},
   "source": [
    "Get the size of it"
   ]
  },
  {
   "cell_type": "code",
   "execution_count": 6,
   "metadata": {},
   "outputs": [
    {
     "data": {
      "text/plain": [
       "torch.Size([5, 3])"
      ]
     },
     "execution_count": 6,
     "metadata": {},
     "output_type": "execute_result"
    }
   ],
   "source": [
    "x.size()"
   ]
  },
  {
   "cell_type": "markdown",
   "metadata": {},
   "source": [
    "## Operations"
   ]
  },
  {
   "cell_type": "markdown",
   "metadata": {},
   "source": [
    "## Addition"
   ]
  },
  {
   "cell_type": "code",
   "execution_count": 7,
   "metadata": {},
   "outputs": [
    {
     "name": "stdout",
     "output_type": "stream",
     "text": [
      "tensor([[ 1.6778,  2.8166,  1.5405],\n",
      "        [-0.2302, -1.9603,  1.5131],\n",
      "        [-0.0333,  0.0219,  1.8354],\n",
      "        [-0.4654, -2.4035,  1.8046],\n",
      "        [-1.2272, -0.5675,  0.5196]])\n"
     ]
    }
   ],
   "source": [
    "y = torch.rand(5,3)\n",
    "print(x+y)"
   ]
  },
  {
   "cell_type": "code",
   "execution_count": 8,
   "metadata": {},
   "outputs": [
    {
     "name": "stdout",
     "output_type": "stream",
     "text": [
      "tensor([[ 1.6778,  2.8166,  1.5405],\n",
      "        [-0.2302, -1.9603,  1.5131],\n",
      "        [-0.0333,  0.0219,  1.8354],\n",
      "        [-0.4654, -2.4035,  1.8046],\n",
      "        [-1.2272, -0.5675,  0.5196]])\n"
     ]
    }
   ],
   "source": [
    "# Syntax 2\n",
    "print(torch.add(x,y))"
   ]
  },
  {
   "cell_type": "code",
   "execution_count": 9,
   "metadata": {},
   "outputs": [
    {
     "name": "stdout",
     "output_type": "stream",
     "text": [
      "tensor([[ 1.6778,  2.8166,  1.5405],\n",
      "        [-0.2302, -1.9603,  1.5131],\n",
      "        [-0.0333,  0.0219,  1.8354],\n",
      "        [-0.4654, -2.4035,  1.8046],\n",
      "        [-1.2272, -0.5675,  0.5196]])\n"
     ]
    }
   ],
   "source": [
    "# Providing an output place for addition\n",
    "out = torch.empty(5, 3)\n",
    "out = torch.add(x,y)\n",
    "print(out)"
   ]
  },
  {
   "cell_type": "code",
   "execution_count": 10,
   "metadata": {},
   "outputs": [
    {
     "name": "stdout",
     "output_type": "stream",
     "text": [
      "tensor([[ 1.6778,  2.8166,  1.5405],\n",
      "        [-0.2302, -1.9603,  1.5131],\n",
      "        [-0.0333,  0.0219,  1.8354],\n",
      "        [-0.4654, -2.4035,  1.8046],\n",
      "        [-1.2272, -0.5675,  0.5196]])\n"
     ]
    }
   ],
   "source": [
    "# adds x to y\n",
    "y.add_(x)\n",
    "print(y)"
   ]
  },
  {
   "cell_type": "markdown",
   "metadata": {},
   "source": [
    "- Any operation that mutates a tensor in-place is post-fixed with an _. For example: x.copy_(y), x.t_(), will change x."
   ]
  },
  {
   "cell_type": "code",
   "execution_count": 11,
   "metadata": {},
   "outputs": [
    {
     "name": "stdout",
     "output_type": "stream",
     "text": [
      "tensor([[ 1.1592,  1.9643,  1.1341],\n",
      "        [-0.8683, -2.1385,  0.6737],\n",
      "        [-0.0339, -0.4883,  1.4657],\n",
      "        [-0.6522, -3.0376,  1.3596],\n",
      "        [-1.3594, -1.0410, -0.3571]])\n",
      "tensor([ 1.9643, -2.1385, -0.4883, -3.0376, -1.0410])\n"
     ]
    }
   ],
   "source": [
    "print(x)\n",
    "print(x[:,1]) #For indexing you can use Numpy type features"
   ]
  },
  {
   "cell_type": "markdown",
   "metadata": {},
   "source": [
    "If you want to resize/reshape tensor, you can use 'torch.view'"
   ]
  },
  {
   "cell_type": "code",
   "execution_count": 15,
   "metadata": {},
   "outputs": [
    {
     "name": "stdout",
     "output_type": "stream",
     "text": [
      "tensor([[-0.3335, -1.7136, -1.4509, -1.0435],\n",
      "        [-0.3898,  1.0967,  1.6114, -0.1005],\n",
      "        [-0.1587, -1.6786, -2.0368,  0.1357],\n",
      "        [-2.1033,  1.0643, -0.5947,  0.9620]])\n",
      "tensor([[-0.3335, -1.7136, -1.4509, -1.0435, -0.3898,  1.0967,  1.6114, -0.1005],\n",
      "        [-0.1587, -1.6786, -2.0368,  0.1357, -2.1033,  1.0643, -0.5947,  0.9620]])\n",
      "torch.Size([4, 4]) torch.Size([16]) torch.Size([2, 8])\n"
     ]
    }
   ],
   "source": [
    "x = torch.randn(4,4)\n",
    "print(x)\n",
    "y = x.view(16)# Similar with numpy reshape function\n",
    "z = x.view(-1,8)# -1 Means that give me appropriate number of row\n",
    "print(z)\n",
    "print(x.size(), y.size(), z.size())"
   ]
  },
  {
   "cell_type": "markdown",
   "metadata": {},
   "source": [
    "If you have one element in tensor, '.item()' can be used to get as a Python value."
   ]
  },
  {
   "cell_type": "code",
   "execution_count": 17,
   "metadata": {
    "scrolled": true
   },
   "outputs": [
    {
     "name": "stdout",
     "output_type": "stream",
     "text": [
      "tensor([2.0841])\n",
      "2.0841064453125\n"
     ]
    }
   ],
   "source": [
    "x = torch.randn(1)\n",
    "print(x)\n",
    "print(x.item())"
   ]
  },
  {
   "cell_type": "markdown",
   "metadata": {},
   "source": [
    "## NUMPY CONVERSION"
   ]
  },
  {
   "cell_type": "markdown",
   "metadata": {},
   "source": [
    "Torch Tensor can be converted into Numpy array and vice versa. Torch Tensor and Numpy array shares the same memory locations."
   ]
  },
  {
   "cell_type": "markdown",
   "metadata": {},
   "source": [
    "Converting a Torch Tensor to a Numpy Array:"
   ]
  },
  {
   "cell_type": "code",
   "execution_count": 24,
   "metadata": {},
   "outputs": [
    {
     "name": "stdout",
     "output_type": "stream",
     "text": [
      "tensor([1., 1., 1., 1., 1.])\n",
      "[1. 1. 1. 1. 1.]\n",
      "tensor([2., 2., 2., 2., 2.])\n",
      "[2. 2. 2. 2. 2.]\n"
     ]
    }
   ],
   "source": [
    "a = torch.ones(5)\n",
    "print(a)\n",
    "b = a.numpy()\n",
    "print(b)\n",
    "a.add_(1)\n",
    "print(a)\n",
    "print(b)"
   ]
  },
  {
   "cell_type": "markdown",
   "metadata": {},
   "source": [
    "- Because of the same memory location, adding operation effect both of them."
   ]
  },
  {
   "cell_type": "code",
   "execution_count": 25,
   "metadata": {},
   "outputs": [],
   "source": [
    "## Converting Numpy Array to Torch Tensor"
   ]
  },
  {
   "cell_type": "markdown",
   "metadata": {},
   "source": [
    "Effect of changing np array on Torch Tensor."
   ]
  },
  {
   "cell_type": "code",
   "execution_count": 27,
   "metadata": {},
   "outputs": [
    {
     "name": "stdout",
     "output_type": "stream",
     "text": [
      "[2. 2. 2. 2. 2.]\n",
      "tensor([2., 2., 2., 2., 2.], dtype=torch.float64)\n"
     ]
    }
   ],
   "source": [
    "import numpy as np\n",
    "a = np.ones(5)\n",
    "b = torch.from_numpy(a)\n",
    "np.add(a,1, out =a)\n",
    "print(a)\n",
    "print(b)"
   ]
  },
  {
   "cell_type": "markdown",
   "metadata": {},
   "source": [
    "## CUDA TENSORS"
   ]
  },
  {
   "cell_type": "markdown",
   "metadata": {},
   "source": [
    "Tensors can be moved onto any device using .to method."
   ]
  },
  {
   "cell_type": "code",
   "execution_count": 33,
   "metadata": {},
   "outputs": [],
   "source": [
    "# Check first availability of Cuda in your computer\n",
    "# 'torch.device' can be used in order to move tensors in and out of GPU.\n",
    "\n",
    "if torch.cuda.is_available():\n",
    "    device = torch.device(\"cuda\") # a Cuda device object\n",
    "    y = torch.ones_like(x, device=device) # directly create a tensor on GPU\n",
    "    x = x.to(device) # Or just use '.to(\"cuda\")\n",
    "    z = x + y\n",
    "    print(z)\n",
    "    print(x.to(\"cpu\", torch.double))"
   ]
  }
 ],
 "metadata": {
  "kernelspec": {
   "display_name": "Python 3",
   "language": "python",
   "name": "python3"
  },
  "language_info": {
   "codemirror_mode": {
    "name": "ipython",
    "version": 3
   },
   "file_extension": ".py",
   "mimetype": "text/x-python",
   "name": "python",
   "nbconvert_exporter": "python",
   "pygments_lexer": "ipython3",
   "version": "3.7.0"
  }
 },
 "nbformat": 4,
 "nbformat_minor": 2
}

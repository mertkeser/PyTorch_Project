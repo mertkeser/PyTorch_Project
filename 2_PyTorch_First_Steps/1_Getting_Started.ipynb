{
 "cells": [
  {
   "cell_type": "markdown",
   "metadata": {},
   "source": [
    "# WHAT IS PYTORCH?\n",
    "It’s a Python-based scientific computing package targeted at two sets of audiences:\n",
    "\n",
    "- A replacement for NumPy to use the power of GPUs\n",
    "- A deep learning research platform that provides maximum flexibility and speed"
   ]
  },
  {
   "cell_type": "markdown",
   "metadata": {},
   "source": [
    "## Getting Started\n",
    "\n",
    "Tensors are similar to NumPy’s ndarrays, with the addition being that Tensors can also be used on a GPU to accelerate computing."
   ]
  },
  {
   "cell_type": "code",
   "execution_count": 27,
   "metadata": {},
   "outputs": [
    {
     "name": "stdout",
     "output_type": "stream",
     "text": [
      "tensor([[ 0.0000e+00, -8.5899e+09, -2.7272e-35],\n",
      "        [ 3.6902e+19,  5.6052e-45, -8.5899e+09],\n",
      "        [-2.7272e-35,  1.0845e-19,  4.2039e-45],\n",
      "        [-8.5899e+09, -2.7272e-35, -1.5849e+29],\n",
      "        [ 2.8026e-45,  0.0000e+00,  0.0000e+00]])\n"
     ]
    }
   ],
   "source": [
    "#from __future__ import print_function\n",
    "import torch\n",
    "\n",
    "#Construct a 5x3 matrix uninitialized:\n",
    "x = torch.empty(5, 3)\n",
    "print(x)"
   ]
  },
  {
   "cell_type": "code",
   "execution_count": 28,
   "metadata": {},
   "outputs": [
    {
     "name": "stdout",
     "output_type": "stream",
     "text": [
      "tensor([[0.2816, 0.2489, 0.1133],\n",
      "        [0.2508, 0.1935, 0.9030],\n",
      "        [0.9062, 0.6839, 0.8540],\n",
      "        [0.4342, 0.4738, 0.0267],\n",
      "        [0.4047, 0.6002, 0.4497]])\n"
     ]
    }
   ],
   "source": [
    "x = torch.rand(5, 3)\n",
    "print(x)"
   ]
  },
  {
   "cell_type": "markdown",
   "metadata": {},
   "source": [
    "- Difference between uninitialized and initialized is that, in uninitialized the tensor is allocated in memory. Whatever in this memory is returned. In initialized, it allocates in new memory and fill it with randomly generated numbers between 0 and 1."
   ]
  },
  {
   "cell_type": "markdown",
   "metadata": {},
   "source": [
    "Construct a matrix filled zeros and of dtype long:"
   ]
  },
  {
   "cell_type": "code",
   "execution_count": 14,
   "metadata": {},
   "outputs": [
    {
     "name": "stdout",
     "output_type": "stream",
     "text": [
      "tensor([[0, 0, 0],\n",
      "        [0, 0, 0],\n",
      "        [0, 0, 0],\n",
      "        [0, 0, 0],\n",
      "        [0, 0, 0]])\n"
     ]
    }
   ],
   "source": [
    "x = torch.zeros(5,3, dtype = torch.long)\n",
    "print(x)"
   ]
  },
  {
   "cell_type": "markdown",
   "metadata": {},
   "source": [
    "- Long is an another version of 64 bit integer. You can use torch.long or torch.int64"
   ]
  },
  {
   "cell_type": "code",
   "execution_count": 36,
   "metadata": {},
   "outputs": [
    {
     "name": "stdout",
     "output_type": "stream",
     "text": [
      "tensor([5.5000, 3.0000])\n"
     ]
    }
   ],
   "source": [
    "# Constructing a tensor from Data\n",
    "x = torch.tensor([5.5, 3])\n",
    "print(x)"
   ]
  },
  {
   "cell_type": "markdown",
   "metadata": {},
   "source": [
    "Creation a tensor from existed ones:"
   ]
  },
  {
   "cell_type": "code",
   "execution_count": 37,
   "metadata": {},
   "outputs": [
    {
     "name": "stdout",
     "output_type": "stream",
     "text": [
      "tensor([[1., 1., 1.],\n",
      "        [1., 1., 1.],\n",
      "        [1., 1., 1.],\n",
      "        [1., 1., 1.],\n",
      "        [1., 1., 1.]], dtype=torch.float64)\n",
      "tensor([[ 0.9204, -0.0239, -0.4775],\n",
      "        [ 0.0745,  0.9714, -1.7687],\n",
      "        [-1.8006,  0.0960,  0.6500],\n",
      "        [-1.2762, -1.3536,  1.2531],\n",
      "        [ 0.4923, -0.3494, -0.8489]])\n"
     ]
    }
   ],
   "source": [
    "x = x.new_ones(5,3, dtype=torch.double)      # new_* methods take in sizes\n",
    "print(x)\n",
    "\n",
    "x = torch.randn_like(x, dtype=torch.float)    # override dtype!\n",
    "print(x)                                      # result has the same size"
   ]
  },
  {
   "cell_type": "markdown",
   "metadata": {},
   "source": [
    "Get the size of it"
   ]
  },
  {
   "cell_type": "code",
   "execution_count": 48,
   "metadata": {},
   "outputs": [
    {
     "data": {
      "text/plain": [
       "torch.Size([5, 3])"
      ]
     },
     "execution_count": 48,
     "metadata": {},
     "output_type": "execute_result"
    }
   ],
   "source": [
    "x.size()"
   ]
  },
  {
   "cell_type": "markdown",
   "metadata": {},
   "source": [
    "## Operations"
   ]
  },
  {
   "cell_type": "markdown",
   "metadata": {},
   "source": [
    "## Addition"
   ]
  },
  {
   "cell_type": "code",
   "execution_count": 51,
   "metadata": {},
   "outputs": [
    {
     "name": "stdout",
     "output_type": "stream",
     "text": [
      "tensor([[ 0.9854,  0.9395, -0.1842],\n",
      "        [ 0.7620,  1.8613, -1.2170],\n",
      "        [-1.4789,  0.3406,  1.3560],\n",
      "        [-0.3267, -0.8702,  1.9547],\n",
      "        [ 0.9185,  0.5233, -0.8399]])\n"
     ]
    }
   ],
   "source": [
    "y = torch.rand(5,3)\n",
    "print(x+y)"
   ]
  },
  {
   "cell_type": "code",
   "execution_count": 54,
   "metadata": {},
   "outputs": [
    {
     "name": "stdout",
     "output_type": "stream",
     "text": [
      "tensor([[ 0.9854,  0.9395, -0.1842],\n",
      "        [ 0.7620,  1.8613, -1.2170],\n",
      "        [-1.4789,  0.3406,  1.3560],\n",
      "        [-0.3267, -0.8702,  1.9547],\n",
      "        [ 0.9185,  0.5233, -0.8399]])\n"
     ]
    }
   ],
   "source": [
    "# Syntax 2\n",
    "print(torch.add(x,y))"
   ]
  },
  {
   "cell_type": "code",
   "execution_count": 55,
   "metadata": {},
   "outputs": [
    {
     "name": "stdout",
     "output_type": "stream",
     "text": [
      "tensor([[ 0.9854,  0.9395, -0.1842],\n",
      "        [ 0.7620,  1.8613, -1.2170],\n",
      "        [-1.4789,  0.3406,  1.3560],\n",
      "        [-0.3267, -0.8702,  1.9547],\n",
      "        [ 0.9185,  0.5233, -0.8399]])\n"
     ]
    }
   ],
   "source": [
    "# Providing an output place for addition\n",
    "out = torch.empty(5, 3)\n",
    "out = torch.add(x,y)\n",
    "print(out)"
   ]
  },
  {
   "cell_type": "code",
   "execution_count": 58,
   "metadata": {},
   "outputs": [
    {
     "name": "stdout",
     "output_type": "stream",
     "text": [
      "tensor([[ 1.9059,  0.9156, -0.6617],\n",
      "        [ 0.8365,  2.8327, -2.9857],\n",
      "        [-3.2795,  0.4367,  2.0061],\n",
      "        [-1.6029, -2.2237,  3.2078],\n",
      "        [ 1.4107,  0.1739, -1.6888]])\n"
     ]
    }
   ],
   "source": [
    "# adds x to y\n",
    "y.add_(x)\n",
    "print(y)"
   ]
  },
  {
   "cell_type": "markdown",
   "metadata": {},
   "source": [
    "- Any operation that mutates a tensor in-place is post-fixed with an _. For example: x.copy_(y), x.t_(), will change x."
   ]
  },
  {
   "cell_type": "code",
   "execution_count": 60,
   "metadata": {},
   "outputs": [
    {
     "name": "stdout",
     "output_type": "stream",
     "text": [
      "tensor([[ 0.9204, -0.0239, -0.4775],\n",
      "        [ 0.0745,  0.9714, -1.7687],\n",
      "        [-1.8006,  0.0960,  0.6500],\n",
      "        [-1.2762, -1.3536,  1.2531],\n",
      "        [ 0.4923, -0.3494, -0.8489]])\n",
      "tensor([-0.0239,  0.9714,  0.0960, -1.3536, -0.3494])\n"
     ]
    }
   ],
   "source": [
    "print(x)\n",
    "print(x[:,1]) #For indexing you can use Numpy type features"
   ]
  },
  {
   "cell_type": "code",
   "execution_count": null,
   "metadata": {},
   "outputs": [],
   "source": []
  }
 ],
 "metadata": {
  "kernelspec": {
   "display_name": "Python 3",
   "language": "python",
   "name": "python3"
  },
  "language_info": {
   "codemirror_mode": {
    "name": "ipython",
    "version": 3
   },
   "file_extension": ".py",
   "mimetype": "text/x-python",
   "name": "python",
   "nbconvert_exporter": "python",
   "pygments_lexer": "ipython3",
   "version": "3.7.0"
  }
 },
 "nbformat": 4,
 "nbformat_minor": 2
}
